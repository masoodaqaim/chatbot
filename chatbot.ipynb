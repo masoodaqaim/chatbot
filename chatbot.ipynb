{
 "cells": [
  {
   "cell_type": "markdown",
   "metadata": {},
   "source": [
    "Learning how to build a chatbox. Following Tech with Time (https://www.youtube.com/watch?v=wypVcNIH6D4&list=PLzMcBGfZo4-ndH9FoC4YWHGXG5RZekt-Q)"
   ]
  },
  {
   "cell_type": "code",
   "execution_count": 2,
   "metadata": {},
   "outputs": [],
   "source": [
    "# import libraies\n",
    "import nltk\n",
    "#nltk.download('punkt')\n",
    "from nltk.stem.lancaster import LancasterStemmer\n",
    "stemmer = LancasterStemmer()\n",
    "\n",
    "import numpy as np\n",
    "import tflearn\n",
    "import tensorflow as tf\n",
    "import random\n",
    "import json\n",
    "import pickle\n",
    "\n",
    "import warnings\n",
    "warnings.filterwarnings('ignore')"
   ]
  },
  {
   "cell_type": "markdown",
   "metadata": {},
   "source": [
    "The intent file is formated as a JSON file. Here is the format:\n",
    "{\"intents\": [\n",
    "        {\"tag\": \"greating\",\n",
    "        \"patterns\": [\"Hi\"],\n",
    "        \"response\" [\"Hello\"],\n",
    "        \"context_set\": \"\"\n",
    "        }\n",
    "        \n",
    "The basic structor is as follows:\n",
    "    - person types a message\n",
    "    - the chatbot, through deeplearning, tags the message\n",
    "    - the chatbot then returns with one of the responses"
   ]
  },
  {
   "cell_type": "code",
   "execution_count": 3,
   "metadata": {},
   "outputs": [],
   "source": [
    "# reading our json file\n",
    "with open ('learning_nlp.json') as file:\n",
    "    data = json.load(file)\n",
    "    \n",
    "#print(data)  # just to make sure we correctly loaded/read our file\n",
    "#print(data['intents'])"
   ]
  },
  {
   "cell_type": "markdown",
   "metadata": {},
   "source": [
    "## Preprocess Data"
   ]
  },
  {
   "cell_type": "code",
   "execution_count": 4,
   "metadata": {},
   "outputs": [],
   "source": [
    "# save each patten/grouping into a variable \n",
    "words = []\n",
    "labels = []\n",
    "docs_x = [] # for each patten, we need to know what intent is\n",
    "docs_y = [] \n",
    "\n",
    "for intent in data['intents']:\n",
    "    for pattern in intent['patterns']:\n",
    "        # stemming will break each word in our pattern and break it down into the root word\n",
    "        # ex. \"Is anyone there?\": the root is \"there\" ignoreing the other words and ?\n",
    "        # we need to tokkenize (getting all the words)\n",
    "        wrds = nltk.word_tokenize(pattern)\n",
    "        words.extend(wrds)\n",
    "        docs_x.append(wrds)\n",
    "        docs_y.append(intent['tag'])\n",
    "        \n",
    "    if intent['tag'] not in labels:\n",
    "            labels.append(intent['tag'])\n",
    "            \n",
    "\n",
    "# stem all words and remove duplicates \n",
    "words = [stemmer.stem(w.lower()) for w in words if w != '?']\n",
    "words = sorted(list(set(words))) # set removes duplicates, list converts set back to list, sorted just sorts the words\n",
    "\n",
    "labels = sorted(labels)\n"
   ]
  },
  {
   "cell_type": "markdown",
   "metadata": {},
   "source": [
    "To run data in a neural network, I need to convert the string data into numbers. To do this, I'll convert the strings into a \"bag of words\" (one-hot encoding)"
   ]
  },
  {
   "cell_type": "code",
   "execution_count": 5,
   "metadata": {},
   "outputs": [],
   "source": [
    "training = []  # a list of 0 and 1. ex. [0,0,0,1,2,0,4,0] meaning there is 0 mention of 'a', 2 mention of \"hi\", etc\n",
    "output = []  # a list of 0 and 1. ex. [0,0,0,1] meaning there is a mention of \"goodby\"\n",
    "\n",
    "out_empty = [0 for _ in range(len(labels))]\n",
    "\n",
    "for x, doc in enumerate(docs_x):\n",
    "    bag = []\n",
    "    \n",
    "    wrds = [stemmer.stem(w) for w in doc]\n",
    "    \n",
    "    # one-hot encoding\n",
    "    for w in words:\n",
    "        if w in wrds: \n",
    "            bag.append(1)\n",
    "        else:\n",
    "            bag.append(0)\n",
    "            \n",
    "    output_row = out_empty[:]\n",
    "    output_row[labels.index(docs_y[x])] = 1  # look through the \"label\" list. See where the tag is in the list and place a 1\n",
    "\n",
    "    training.append(bag)\n",
    "    output.append(output_row)  # this is where i made the mistake. I coded: bag.append(output_row), should be ouput.app...\n",
    "    \n",
    "    \n",
    "training = np.array(training)\n",
    "output = np.array(output)\n",
    "\n",
    "# saving our data as a pickle file (used for serializing and de-serializing a Python object structure)\n",
    "with open('data_to_train.pickle', 'wb') as f:\n",
    "    pickle.dump((words, labels, training, output), f)"
   ]
  },
  {
   "cell_type": "code",
   "execution_count": 11,
   "metadata": {},
   "outputs": [
    {
     "name": "stdout",
     "output_type": "stream",
     "text": [
      "[0 0 0 0 0 0 0 0 0 0 0 0 0 0 0 0 0 0 0 0 1 0 0 0 0 0 0 0 0 0 1 0 0 1 0 0 0\n",
      " 0 0 0 0 0 0 0 0 0]\n",
      "[0 0 0 1 0 0]\n",
      "26\n",
      "26\n",
      "46\n",
      "6\n"
     ]
    }
   ],
   "source": [
    "# verify if training and output are correctly one-hot encoded\n",
    "\n",
    "test = 25\n",
    "\n",
    "print(training[test])\n",
    "print(output[test])\n",
    "\n",
    "print(len(training))\n",
    "print(len(output))\n",
    "\n",
    "print(len(training[test]))\n",
    "print(len(output[test]))"
   ]
  },
  {
   "cell_type": "code",
   "execution_count": 13,
   "metadata": {},
   "outputs": [],
   "source": [
    "tf.reset_default_graph()\n",
    "\n",
    "# model layers\n",
    "net = tflearn.input_data(shape=[None, len(training[0])]) # the shape of data\n",
    "net = tflearn.fully_connected(net, 8) # hidden layer\n",
    "net = tflearn.fully_connected(net, 8) # hidden layer\n",
    "net = tflearn.fully_connected(net, len(output[0]), activation='softmax') # probability distribution \n",
    "net = tflearn.regression(net)\n",
    "\n",
    "model = tflearn.DNN(net) # the network"
   ]
  },
  {
   "cell_type": "code",
   "execution_count": 14,
   "metadata": {},
   "outputs": [
    {
     "name": "stdout",
     "output_type": "stream",
     "text": [
      "Training Step: 3999  | total loss: \u001b[1m\u001b[32m0.06545\u001b[0m\u001b[0m\n",
      "| Adam | epoch: 1000 | loss: 0.06545 - acc: 0.9988 -- iter: 24/26\n",
      "Training Step: 4000  | total loss: \u001b[1m\u001b[32m0.06745\u001b[0m\u001b[0m | time: 0.016s\n",
      "| Adam | epoch: 1000 | loss: 0.06745 - acc: 0.9989 -- iter: 26/26\n",
      "--\n"
     ]
    }
   ],
   "source": [
    "model.fit(training, output, n_epoch=1000, batch_size=8, show_metric=True)\n",
    "model.save(\"model.tflearn\")"
   ]
  },
  {
   "cell_type": "markdown",
   "metadata": {},
   "source": [
    "Model accuracy: 99%"
   ]
  },
  {
   "cell_type": "code",
   "execution_count": null,
   "metadata": {},
   "outputs": [],
   "source": []
  }
 ],
 "metadata": {
  "kernelspec": {
   "display_name": "Python 3",
   "language": "python",
   "name": "python3"
  },
  "language_info": {
   "codemirror_mode": {
    "name": "ipython",
    "version": 3
   },
   "file_extension": ".py",
   "mimetype": "text/x-python",
   "name": "python",
   "nbconvert_exporter": "python",
   "pygments_lexer": "ipython3",
   "version": "3.6.8"
  }
 },
 "nbformat": 4,
 "nbformat_minor": 2
}
